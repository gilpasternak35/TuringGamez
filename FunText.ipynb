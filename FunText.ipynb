{
 "cells": [
  {
   "cell_type": "code",
   "execution_count": 6,
   "metadata": {},
   "outputs": [],
   "source": [
    "from transformers import pipeline, set_seed\n",
    "import pandas as pd\n",
    "import requests, sys, webbrowser,xml\n",
    "import numpy as np\n",
    "import bs4"
   ]
  },
  {
   "cell_type": "code",
   "execution_count": 3,
   "metadata": {
    "tags": []
   },
   "outputs": [
    {
     "output_type": "stream",
     "name": "stderr",
     "text": "Some weights of GPT2LMHeadModel were not initialized from the model checkpoint at gpt2 and are newly initialized: ['h.0.attn.masked_bias', 'h.1.attn.masked_bias', 'h.2.attn.masked_bias', 'h.3.attn.masked_bias', 'h.4.attn.masked_bias', 'h.5.attn.masked_bias', 'h.6.attn.masked_bias', 'h.7.attn.masked_bias', 'h.8.attn.masked_bias', 'h.9.attn.masked_bias', 'h.10.attn.masked_bias', 'h.11.attn.masked_bias', 'lm_head.weight']\nYou should probably TRAIN this model on a down-stream task to be able to use it for predictions and inference.\nSetting `pad_token_id` to 50256 (first `eos_token_id`) to generate sequence\n"
    },
    {
     "output_type": "execute_result",
     "data": {
      "text/plain": "'Nala shut it down as well. The system is designed to get users to keep their devices where they want, while delivering the same convenience to the'"
     },
     "metadata": {},
     "execution_count": 3
    }
   ],
   "source": [
    "# Given a number letters and some sequence, returns the sequence with generated attached words\n",
    "def generateText(intro_sequence:str, num_words = 30)->str:\n",
    "    # Imported random text generation\n",
    "    generator = pipeline('text-generation', model='gpt2')\n",
    "    text = generator(intro_sequence, max_length=num_words, num_return_sequences=1)[0].get(\"generated_text\")\n",
    "    return endSentence(text)\n",
    "def endSentence(text):\n",
    "    last_char = text[-1]\n",
    "    #if((last_char != '?') and (last_char != '!') and (last_char != '.' )):\n",
    "    return text\n",
    "generateText(\"Nala shut it\")"
   ]
  },
  {
   "cell_type": "code",
   "execution_count": 7,
   "metadata": {},
   "outputs": [],
   "source": [
    "def getText(url = \"https://www.keepinspiring.me/famous-quotes/\" ):\n",
    "    # Requesting data from url, finding specialized tags for this particular website\n",
    "    res = requests.get(url)\n",
    "    res.raise_for_status()\n",
    "    soup = bs4.BeautifulSoup(res.text, \"html.parser\")\n",
    "    text  = soup.find_all(\"div\", class_ = 'author-quotes')  \n",
    "    return text\n",
    "text = getText()"
   ]
  },
  {
   "cell_type": "markdown",
   "metadata": {},
   "source": [
    "## Game List: \n",
    "1) **Mad Libs** \n",
    "\n",
    "2) **Find the real quote**\n",
    "\n",
    "3) **How well do you know your favorite song?**\n",
    "    "
   ]
  },
  {
   "cell_type": "code",
   "execution_count": 8,
   "metadata": {},
   "outputs": [],
   "source": [
    "#Tag processing functions to clean up nasty html formatting, replaces div tags\n",
    "def processing_div(tag):\n",
    "    return tag.replace('<div class=\"author-quotes\">', \"\").replace(\"</div>\", \"\")\n",
    "\n",
    "#span processing, replaces span tag\n",
    "def processing_span(tag):\n",
    "    return tag.replace(\"<span class=\\\"quote-author-name\\\">\", \"\").replace(\"</span>\", \"\")\n",
    "\n",
    "# Checks for tags that have yet to be removed, not given standard format. Reasoning - we don't know when ads will pop up\n",
    "def cleaner(table):\n",
    "    arr = np.array([])\n",
    "    for i in table.get(\"quote\"):\n",
    "        arr = np.append(arr,(\"<\" in i))\n",
    "    clean = table[(arr != 1)]\n",
    "    return clean"
   ]
  },
  {
   "cell_type": "code",
   "execution_count": 13,
   "metadata": {},
   "outputs": [
    {
     "output_type": "execute_result",
     "data": {
      "text/plain": "                                                quote              author\n0   “You know you’re in love when you can’t fall a...         – Dr. Suess\n1   “I’m selfish, impatient and a little insecure....    – Marilyn Monroe\n2                “Get busy living or get busy dying.”      – Stephen King\n3   “The first step toward success is taken when y...        – Mark Caine\n5   “Twenty years from now you will be more disapp...        – Mark Twain\n..                                                ...                 ...\n83  “The dream crossed twilight between birth and ...       – T. S. Eliot\n84  “Don’t think. Thinking is the enemy of creativ...      – Ray Bradbury\n86      “The power of imagination makes us infinite.”         – John Muir\n88  “Originality is nothing but judicious imitation.”          – Voltaire\n89  “Life is made of ever so many partings welded ...   – Charles Dickens\n\n[72 rows x 2 columns]",
      "text/html": "<div>\n<style scoped>\n    .dataframe tbody tr th:only-of-type {\n        vertical-align: middle;\n    }\n\n    .dataframe tbody tr th {\n        vertical-align: top;\n    }\n\n    .dataframe thead th {\n        text-align: right;\n    }\n</style>\n<table border=\"1\" class=\"dataframe\">\n  <thead>\n    <tr style=\"text-align: right;\">\n      <th></th>\n      <th>quote</th>\n      <th>author</th>\n    </tr>\n  </thead>\n  <tbody>\n    <tr>\n      <th>0</th>\n      <td>“You know you’re in love when you can’t fall a...</td>\n      <td>– Dr. Suess</td>\n    </tr>\n    <tr>\n      <th>1</th>\n      <td>“I’m selfish, impatient and a little insecure....</td>\n      <td>– Marilyn Monroe</td>\n    </tr>\n    <tr>\n      <th>2</th>\n      <td>“Get busy living or get busy dying.”</td>\n      <td>– Stephen King</td>\n    </tr>\n    <tr>\n      <th>3</th>\n      <td>“The first step toward success is taken when y...</td>\n      <td>– Mark Caine</td>\n    </tr>\n    <tr>\n      <th>5</th>\n      <td>“Twenty years from now you will be more disapp...</td>\n      <td>– Mark Twain</td>\n    </tr>\n    <tr>\n      <th>...</th>\n      <td>...</td>\n      <td>...</td>\n    </tr>\n    <tr>\n      <th>83</th>\n      <td>“The dream crossed twilight between birth and ...</td>\n      <td>– T. S. Eliot</td>\n    </tr>\n    <tr>\n      <th>84</th>\n      <td>“Don’t think. Thinking is the enemy of creativ...</td>\n      <td>– Ray Bradbury</td>\n    </tr>\n    <tr>\n      <th>86</th>\n      <td>“The power of imagination makes us infinite.”</td>\n      <td>– John Muir</td>\n    </tr>\n    <tr>\n      <th>88</th>\n      <td>“Originality is nothing but judicious imitation.”</td>\n      <td>– Voltaire</td>\n    </tr>\n    <tr>\n      <th>89</th>\n      <td>“Life is made of ever so many partings welded ...</td>\n      <td>– Charles Dickens</td>\n    </tr>\n  </tbody>\n</table>\n<p>72 rows × 2 columns</p>\n</div>"
     },
     "metadata": {},
     "execution_count": 13
    }
   ],
   "source": [
    "table = pd.DataFrame().assign(quote = text)\n",
    "\n",
    "#Formatting, processing, and splitting quotes and authors\n",
    "def tableProcess(table):\n",
    "    table = table.assign(quote = table.get(\"quote\").apply(str))\n",
    "    table = table.assign(quote = table.get(\"quote\").apply(processing_div).apply(processing_span))\n",
    "    table = cleaner(table)\n",
    "    table = table.assign(author  = table.get(\"quote\").apply(authors), quote = table.get(\"quote\").apply(removeAuthors))\n",
    "    return table\n",
    "table = tableProcess(table)\n",
    "table"
   ]
  },
  {
   "cell_type": "code",
   "execution_count": 12,
   "metadata": {},
   "outputs": [],
   "source": [
    "# Obtainin author from quote\n",
    "def authors(quote):\n",
    "    return quote.split(\"”\")[1]\n",
    "\n",
    "#Removing author and adding lost smartquote\n",
    "def removeAuthors(quote):\n",
    "    return (quote.split(\"”\")[0] + (\"”\"))"
   ]
  },
  {
   "cell_type": "code",
   "execution_count": null,
   "metadata": {},
   "outputs": [],
   "source": []
  }
 ],
 "metadata": {
  "kernelspec": {
   "display_name": "Python 3",
   "language": "python",
   "name": "python3"
  },
  "language_info": {
   "codemirror_mode": {
    "name": "ipython",
    "version": 3
   },
   "file_extension": ".py",
   "mimetype": "text/x-python",
   "name": "python",
   "nbconvert_exporter": "python",
   "pygments_lexer": "ipython3",
   "version": "3.8.3-final"
  }
 },
 "nbformat": 4,
 "nbformat_minor": 4
}